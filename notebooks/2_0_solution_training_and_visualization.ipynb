{
  "nbformat": 4,
  "nbformat_minor": 0,
  "metadata": {
    "colab": {
      "provenance": []
    },
    "kernelspec": {
      "name": "python3",
      "display_name": "Python 3"
    },
    "language_info": {
      "name": "python"
    }
  },
  "cells": [
    {
      "cell_type": "markdown",
      "source": [
        "# Installation"
      ],
      "metadata": {
        "id": "QSEKv2kGmIci"
      }
    },
    {
      "cell_type": "code",
      "execution_count": 1,
      "metadata": {
        "colab": {
          "base_uri": "https://localhost:8080/"
        },
        "id": "aMRl1_YRafbq",
        "outputId": "007eff2e-2bd5-4e40-adfc-7d053d4a71f5"
      },
      "outputs": [
        {
          "output_type": "stream",
          "name": "stdout",
          "text": [
            "Cloning into 'movie-recommender-system'...\n",
            "remote: Enumerating objects: 255, done.\u001b[K\n",
            "remote: Counting objects: 100% (56/56), done.\u001b[K\n",
            "remote: Compressing objects: 100% (42/42), done.\u001b[K\n",
            "remote: Total 255 (delta 26), reused 39 (delta 12), pack-reused 199\u001b[K\n",
            "Receiving objects: 100% (255/255), 48.81 MiB | 18.44 MiB/s, done.\n",
            "Resolving deltas: 100% (94/94), done.\n"
          ]
        }
      ],
      "source": [
        "!git clone https://github.com/Nagim123/movie-recommender-system.git"
      ]
    },
    {
      "cell_type": "code",
      "source": [
        "%%capture\n",
        "import torch\n",
        "import os\n",
        "\n",
        "# We need to get the version of PyTorch installed on machine to install appropriate version\n",
        "# of other libraries that we need\n",
        "print(\"PyTorch has version {}\".format(torch.__version__))\n",
        "os.environ['TORCH'] = torch.__version__\n",
        "\n",
        "# Check if everything is correctly installed\n",
        "if 'IS_GRADESCOPE_ENV' not in os.environ:\n",
        "    # If not then install all requiered libraries versions directly.\n",
        "    !pip install ogb\n",
        "    !pip install torch-scatter -f https://data.pyg.org/whl/torch-${TORCH}.html\n",
        "    !pip install torch-sparse -f https://data.pyg.org/whl/torch-${TORCH}.html\n",
        "    !pip install pyg-lib -f https://data.pyg.org/whl/nightly/torch-${TORCH}.html\n",
        "    !pip install git+https://github.com/pyg-team/pytorch_geometric.git"
      ],
      "metadata": {
        "id": "CSBZfDCna6o6"
      },
      "execution_count": 2,
      "outputs": []
    },
    {
      "cell_type": "code",
      "source": [
        "%cd movie-recommender-system/"
      ],
      "metadata": {
        "colab": {
          "base_uri": "https://localhost:8080/"
        },
        "id": "mlc9ZtI4aq-h",
        "outputId": "c1852d5a-542b-4fee-c09e-e41fe7a85803"
      },
      "execution_count": 3,
      "outputs": [
        {
          "output_type": "stream",
          "name": "stdout",
          "text": [
            "/content/movie-recommender-system\n"
          ]
        }
      ]
    },
    {
      "cell_type": "markdown",
      "source": [
        "# Training\n",
        "The training will be demonstrated on first subset of MovieLens dataset"
      ],
      "metadata": {
        "id": "gXsTD7C4mLIc"
      }
    },
    {
      "cell_type": "code",
      "source": [
        "!python train_model.py 1 --epochs 30"
      ],
      "metadata": {
        "colab": {
          "base_uri": "https://localhost:8080/"
        },
        "id": "4CFaa_ZHazAJ",
        "outputId": "3010ab4c-e9e9-44da-b259-a00c08beb56d"
      },
      "execution_count": 4,
      "outputs": [
        {
          "output_type": "stream",
          "name": "stdout",
          "text": [
            "/usr/local/lib/python3.10/dist-packages/torch_geometric/data/storage.py:340: UserWarning: Unable to accurately infer 'num_nodes' from the attribute set 'set()'. Please explicitly set 'num_nodes' as an attribute of 'data[_global_store]' to suppress this warning\n",
            "  warnings.warn(\n",
            "100% 275/275 [00:30<00:00,  9.12it/s]\n",
            "Epoch: 0, train_loss: 1.1528, val_loss: 1.0631\n",
            "100% 275/275 [00:29<00:00,  9.37it/s]\n",
            "Epoch: 1, train_loss: 1.0657, val_loss: 1.0194\n",
            "100% 275/275 [00:26<00:00, 10.47it/s]\n",
            "Epoch: 2, train_loss: 1.0316, val_loss: 0.9930\n",
            "100% 275/275 [00:25<00:00, 10.93it/s]\n",
            "Epoch: 3, train_loss: 1.0130, val_loss: 0.9792\n",
            "100% 275/275 [00:27<00:00, 10.06it/s]\n",
            "Epoch: 4, train_loss: 1.0022, val_loss: 0.9735\n",
            "100% 275/275 [00:27<00:00, 10.00it/s]\n",
            "Epoch: 5, train_loss: 0.9949, val_loss: 0.9674\n",
            "100% 275/275 [00:27<00:00, 10.04it/s]\n",
            "Epoch: 6, train_loss: 0.9886, val_loss: 0.9639\n",
            "100% 275/275 [00:27<00:00, 10.16it/s]\n",
            "Epoch: 7, train_loss: 0.9846, val_loss: 0.9614\n",
            "100% 275/275 [00:26<00:00, 10.28it/s]\n",
            "Epoch: 8, train_loss: 0.9810, val_loss: 0.9614\n",
            "100% 275/275 [00:26<00:00, 10.39it/s]\n",
            "Epoch: 9, train_loss: 0.9761, val_loss: 0.9618\n",
            "100% 275/275 [00:26<00:00, 10.34it/s]\n",
            "Epoch: 10, train_loss: 0.9746, val_loss: 0.9576\n",
            "100% 275/275 [00:26<00:00, 10.29it/s]\n",
            "Epoch: 11, train_loss: 0.9721, val_loss: 0.9567\n",
            "100% 275/275 [00:28<00:00,  9.77it/s]\n",
            "Epoch: 12, train_loss: 0.9697, val_loss: 0.9535\n",
            "100% 275/275 [00:27<00:00,  9.85it/s]\n",
            "Epoch: 13, train_loss: 0.9675, val_loss: 0.9526\n",
            "100% 275/275 [00:28<00:00,  9.49it/s]\n",
            "Epoch: 14, train_loss: 0.9652, val_loss: 0.9538\n",
            "100% 275/275 [00:28<00:00,  9.58it/s]\n",
            "Epoch: 15, train_loss: 0.9629, val_loss: 0.9532\n",
            "100% 275/275 [00:27<00:00, 10.02it/s]\n",
            "Epoch: 16, train_loss: 0.9614, val_loss: 0.9522\n",
            "100% 275/275 [00:26<00:00, 10.25it/s]\n",
            "Epoch: 17, train_loss: 0.9608, val_loss: 0.9581\n",
            "100% 275/275 [00:27<00:00,  9.99it/s]\n",
            "Epoch: 18, train_loss: 0.9594, val_loss: 0.9497\n",
            "100% 275/275 [00:25<00:00, 10.59it/s]\n",
            "Epoch: 19, train_loss: 0.9577, val_loss: 0.9513\n",
            "100% 275/275 [00:25<00:00, 10.60it/s]\n",
            "Epoch: 20, train_loss: 0.9563, val_loss: 0.9483\n",
            "100% 275/275 [00:27<00:00,  9.91it/s]\n",
            "Epoch: 21, train_loss: 0.9565, val_loss: 0.9523\n",
            "100% 275/275 [00:26<00:00, 10.35it/s]\n",
            "Epoch: 22, train_loss: 0.9553, val_loss: 0.9498\n",
            "100% 275/275 [00:28<00:00,  9.70it/s]\n",
            "Epoch: 23, train_loss: 0.9542, val_loss: 0.9470\n",
            "100% 275/275 [00:26<00:00, 10.30it/s]\n",
            "Epoch: 24, train_loss: 0.9535, val_loss: 0.9449\n",
            "100% 275/275 [00:26<00:00, 10.30it/s]\n",
            "Epoch: 25, train_loss: 0.9511, val_loss: 0.9473\n",
            "100% 275/275 [00:27<00:00, 10.15it/s]\n",
            "Epoch: 26, train_loss: 0.9517, val_loss: 0.9442\n",
            "100% 275/275 [00:26<00:00, 10.37it/s]\n",
            "Epoch: 27, train_loss: 0.9503, val_loss: 0.9454\n",
            "100% 275/275 [00:26<00:00, 10.43it/s]\n",
            "Epoch: 28, train_loss: 0.9501, val_loss: 0.9436\n",
            "100% 275/275 [00:25<00:00, 10.60it/s]\n",
            "Epoch: 29, train_loss: 0.9482, val_loss: 0.9438\n",
            "Info about training saved into train_1.txt\n"
          ]
        }
      ]
    },
    {
      "cell_type": "markdown",
      "source": [
        "# Evaluation"
      ],
      "metadata": {
        "id": "0Im4AlkJmM3T"
      }
    },
    {
      "cell_type": "code",
      "source": [
        "!python predict.py 1"
      ],
      "metadata": {
        "id": "pKfP2Ivca4Ct"
      },
      "execution_count": 5,
      "outputs": []
    },
    {
      "cell_type": "code",
      "source": [
        "!python benchmark/evaluate.py 1"
      ],
      "metadata": {
        "colab": {
          "base_uri": "https://localhost:8080/"
        },
        "id": "u2JmkBRmmPrb",
        "outputId": "98845c66-5e5e-4a2d-e8b0-64c1dd237935"
      },
      "execution_count": 9,
      "outputs": [
        {
          "output_type": "stream",
          "name": "stdout",
          "text": [
            "100% 943/943 [00:02<00:00, 359.60it/s]\n",
            "Precision@20 = 0.5983487749696091\n",
            "Recall@20 = 0.6746323637124542\n",
            "NDCG@20 = 0.6111855374854681\n",
            "RMSE = 1.2534984350204468\n"
          ]
        }
      ]
    },
    {
      "cell_type": "code",
      "source": [
        "!python benchmark/visualize.py --loss train_1.txt"
      ],
      "metadata": {
        "id": "WWNDMU1JrsDd"
      },
      "execution_count": 10,
      "outputs": []
    },
    {
      "cell_type": "code",
      "source": [
        "from IPython.display import Image\n",
        "Image('reports/figures/train_1_losses.png')"
      ],
      "metadata": {
        "colab": {
          "base_uri": "https://localhost:8080/",
          "height": 497
        },
        "id": "0y74a_0JHPyB",
        "outputId": "a925f925-8dcf-4b15-a382-601c1572bf7c"
      },
      "execution_count": 11,
      "outputs": [
        {
          "output_type": "execute_result",
          "data": {
            "image/png": "[encoded data removed]",
            "text/plain": [
              "<IPython.core.display.Image object>"
            ]
          },
          "metadata": {},
          "execution_count": 11
        }
      ]
    },
    {
      "cell_type": "code",
      "source": [],
      "metadata": {
        "id": "uOUCV4TlKd40"
      },
      "execution_count": null,
      "outputs": []
    }
  ]
}